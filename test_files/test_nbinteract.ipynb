{
 "cells": [
  {
   "cell_type": "code",
   "execution_count": 4,
   "metadata": {},
   "outputs": [],
   "source": [
    "import numpy as np\n",
    "import pandas as pd\n",
    "from itertools import product\n",
    "\n",
    "import matplotlib.pyplot as plt\n",
    "import seaborn as sns\n",
    "%matplotlib inline"
   ]
  },
  {
   "cell_type": "markdown",
   "metadata": {},
   "source": [
    "# Calculation"
   ]
  },
  {
   "cell_type": "code",
   "execution_count": 5,
   "metadata": {},
   "outputs": [],
   "source": [
    "import plotly.graph_objs as go\n",
    "from ipywidgets import interactive, Label, HTML, HBox, VBox, interact\n",
    "from plotly.subplots import make_subplots"
   ]
  },
  {
   "cell_type": "code",
   "execution_count": 6,
   "metadata": {},
   "outputs": [],
   "source": [
    "def simple_plot(n_real):\n",
    "    # Data for plotting\n",
    "    t = np.arange(0.0, 2.0, 0.01)\n",
    "    s = 1 + np.sin(float(n_real) * np.pi * t)\n",
    "\n",
    "    fig, ax = plt.subplots()\n",
    "    ax.plot(t, s)\n",
    "\n",
    "    ax.set(xlabel='time (s)', ylabel='voltage (mV)',\n",
    "           title='About as simple as it gets, folks')\n",
    "    ax.grid()\n",
    "\n",
    "    return fig"
   ]
  },
  {
   "cell_type": "code",
   "execution_count": 17,
   "metadata": {},
   "outputs": [],
   "source": [
    "# test getting user input and plotting RT heatmaps \n",
    "update_layers = interactive(simple_plot,\n",
    "                            {'manual': True, 'manual_name': 'Update layers'}, \n",
    "                            n_real='Real{n}', \n",
    "                            n_imag='Imag{n}',\n",
    "                            thickness='Thickness (nm)'\n",
    "                           )"
   ]
  },
  {
   "cell_type": "code",
   "execution_count": 18,
   "metadata": {},
   "outputs": [
    {
     "data": {
      "application/vnd.jupyter.widget-view+json": {
       "model_id": "ae8b8c211b5d49daa413fe9eb7054aac",
       "version_major": 2,
       "version_minor": 0
      },
      "text/plain": [
       "interactive(children=(Text(value='Real{n}', description='n_real'), Button(description='Update layers', style=B…"
      ]
     },
     "metadata": {},
     "output_type": "display_data"
    }
   ],
   "source": [
    "update_layers"
   ]
  },
  {
   "cell_type": "code",
   "execution_count": null,
   "metadata": {},
   "outputs": [],
   "source": [
    "########################################\n",
    "f_R_lambda = go.FigureWidget(\n",
    "    data=[go.Scatter(x=response_df.loc[response_df.theta_inc==min(theta_inc_range), 'wavelength'], \n",
    "                     y=response_df.loc[response_df.theta_inc==min(theta_inc_range), mode], \n",
    "                     name=mode\n",
    "                      ) for mode in ['R_TE', 'R_TM', 'R_Total']\n",
    "           ],\n",
    "    layout=go.Layout(width=500, legend_orientation='h', legend={'x':0,'y':1.1})\n",
    ")\n",
    "\n",
    "        \n",
    "f_T_lambda = go.FigureWidget(\n",
    "    data=[go.Scatter(x=response_df.loc[response_df.theta_inc==min(theta_inc_range), 'wavelength'], \n",
    "                     y=response_df.loc[response_df.theta_inc==min(theta_inc_range), mode], \n",
    "                     name=mode\n",
    "                      ) for mode in ['T_TE', 'T_TM', 'T_Total']\n",
    "           ],\n",
    "    layout=go.Layout(width=500, legend_orientation='h', legend={'x':0,'y':1.1})\n",
    ")\n",
    "\n",
    "\n",
    "def update_RT_theta(theta_inc):\n",
    "    for selected_data, mode in zip(f_R_lambda.data, ['R_TE', 'R_TM', 'R_Total']):\n",
    "        selected_data.y = response_df.loc[response_df.theta_inc==theta_inc, mode]\n",
    "    for selected_data, mode in zip(f_T_lambda.data, ['T_TE', 'T_TM', 'T_Total']):\n",
    "        selected_data.y = response_df.loc[response_df.theta_inc==theta_inc, mode]\n",
    "        \n",
    "########################################\n",
    "\n",
    "f_R_theta = go.FigureWidget(\n",
    "    data=[go.Scatter(x=response_df.loc[response_df.wavelength==min(wavelength_range), 'theta_inc'], \n",
    "                     y=response_df.loc[response_df.wavelength==min(wavelength_range), mode], \n",
    "                     name=mode\n",
    "                      ) for mode in ['R_TE', 'R_TM', 'R_Total']\n",
    "           ],\n",
    "    layout=go.Layout(width=500, legend_orientation='h', legend={'x':0,'y':1.1})\n",
    ")\n",
    "\n",
    "        \n",
    "f_T_theta = go.FigureWidget(\n",
    "    data=[go.Scatter(x=response_df.loc[response_df.wavelength==min(wavelength_range), 'theta_inc'], \n",
    "                     y=response_df.loc[response_df.wavelength==min(wavelength_range), mode], \n",
    "                     name=mode\n",
    "                      ) for mode in ['T_TE', 'T_TM', 'T_Total']\n",
    "           ],\n",
    "    layout=go.Layout(width=500, legend_orientation='h', legend={'x':0,'y':1.1})\n",
    ")\n",
    "\n",
    "\n",
    "def update_RT_wavelength(wavelength):\n",
    "    for selected_data, mode in zip(f_R_theta.data, ['R_TE', 'R_TM', 'R_Total']):\n",
    "        selected_data.y = response_df.loc[response_df.wavelength==wavelength, mode]\n",
    "    for selected_data, mode in zip(f_T_theta.data, ['T_TE', 'T_TM', 'T_Total']):\n",
    "        selected_data.y = response_df.loc[response_df.wavelength==wavelength, mode]\n",
    "        \n",
    "\n",
    "########################################\n",
    "\n",
    "theta_slider  = interactive(update_RT_theta, theta_inc=(1, 90, 1))\n",
    "lambda_slider = interactive(update_RT_wavelength, wavelength=(400, 700, 10))\n",
    "\n",
    "hb1 = HBox((f_R_lambda, f_T_lambda))\n",
    "vb1 = VBox((theta_slider, hb1))\n",
    "vb1.layout.align_items = 'center'\n",
    "\n",
    "hb2 = HBox((f_R_theta, f_T_theta))\n",
    "vb2 = VBox((lambda_slider, hb2))\n",
    "vb2.layout.align_items = 'center'\n",
    "\n",
    "vb3 = VBox((vb1, vb2))\n",
    "vb3"
   ]
  }
 ],
 "metadata": {
  "kernelspec": {
   "display_name": "Python 3",
   "language": "python",
   "name": "python3"
  },
  "language_info": {
   "codemirror_mode": {
    "name": "ipython",
    "version": 3
   },
   "file_extension": ".py",
   "mimetype": "text/x-python",
   "name": "python",
   "nbconvert_exporter": "python",
   "pygments_lexer": "ipython3",
   "version": "3.7.5"
  }
 },
 "nbformat": 4,
 "nbformat_minor": 2
}
